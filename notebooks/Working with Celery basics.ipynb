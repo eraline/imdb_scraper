{
 "cells": [
  {
   "cell_type": "code",
   "execution_count": 1,
   "id": "9c6d7687",
   "metadata": {
    "scrolled": true
   },
   "outputs": [
    {
     "name": "stdout",
     "output_type": "stream",
     "text": [
      "/Users/eric/Dev/imdb_scraper\n"
     ]
    }
   ],
   "source": [
    "cd .."
   ]
  },
  {
   "cell_type": "code",
   "execution_count": 2,
   "id": "01524031",
   "metadata": {},
   "outputs": [],
   "source": [
    "from app import worker"
   ]
  },
  {
   "cell_type": "code",
   "execution_count": 3,
   "id": "069b4b79",
   "metadata": {},
   "outputs": [
    {
     "name": "stdout",
     "output_type": "stream",
     "text": [
      "Who throws a shoe? It's Eric\n"
     ]
    }
   ],
   "source": [
    "worker.random_task('Eric')"
   ]
  },
  {
   "cell_type": "code",
   "execution_count": 4,
   "id": "05e086dd",
   "metadata": {},
   "outputs": [
    {
     "data": {
      "text/plain": [
       "<AsyncResult: 87a3a741-f35d-4631-b916-0e0a7f7f7559>"
      ]
     },
     "execution_count": 4,
     "metadata": {},
     "output_type": "execute_result"
    }
   ],
   "source": [
    "worker.random_task.delay('Eric')"
   ]
  },
  {
   "cell_type": "code",
   "execution_count": 5,
   "id": "7faa650d",
   "metadata": {},
   "outputs": [],
   "source": [
    "for i in range(10):\n",
    "    worker.random_task.delay(i)"
   ]
  },
  {
   "cell_type": "code",
   "execution_count": 6,
   "id": "a45b9a6c",
   "metadata": {},
   "outputs": [],
   "source": [
    "for i in range(10):\n",
    "    worker.random_task.apply_async(args=(f'Eric-{i}',), countdown = 10)"
   ]
  },
  {
   "cell_type": "code",
   "execution_count": 7,
   "id": "2d0f9ea6",
   "metadata": {},
   "outputs": [
    {
     "data": {
      "text/plain": [
       "<AsyncResult: 2ee48a4a-97cc-4c3d-b8b2-24856b3d9661>"
      ]
     },
     "execution_count": 7,
     "metadata": {},
     "output_type": "execute_result"
    }
   ],
   "source": [
    "worker.list_films.delay()"
   ]
  },
  {
   "cell_type": "code",
   "execution_count": null,
   "id": "4ed7ac28",
   "metadata": {},
   "outputs": [],
   "source": []
  }
 ],
 "metadata": {
  "kernelspec": {
   "display_name": "Python 3 (ipykernel)",
   "language": "python",
   "name": "python3"
  },
  "language_info": {
   "codemirror_mode": {
    "name": "ipython",
    "version": 3
   },
   "file_extension": ".py",
   "mimetype": "text/x-python",
   "name": "python",
   "nbconvert_exporter": "python",
   "pygments_lexer": "ipython3",
   "version": "3.9.10"
  }
 },
 "nbformat": 4,
 "nbformat_minor": 5
}
