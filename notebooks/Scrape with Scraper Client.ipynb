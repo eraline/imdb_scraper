{
 "cells": [
  {
   "cell_type": "code",
   "execution_count": 1,
   "id": "766e263e",
   "metadata": {},
   "outputs": [
    {
     "name": "stdout",
     "output_type": "stream",
     "text": [
      "/Users/eric/Dev/imdb_scraper\n"
     ]
    }
   ],
   "source": [
    "cd /Users/eric/Dev/imdb_scraper"
   ]
  },
  {
   "cell_type": "code",
   "execution_count": 2,
   "id": "a29e9402",
   "metadata": {},
   "outputs": [],
   "source": [
    "import re\n",
    "from requests_html import HTML\n",
    "from app import scraper"
   ]
  },
  {
   "cell_type": "code",
   "execution_count": 3,
   "id": "2c465753",
   "metadata": {},
   "outputs": [],
   "source": [
    "url = 'https://www.imdb.com/title/tt0120689/'\n",
    "imdb_id = 'tt0120689'"
   ]
  },
  {
   "cell_type": "code",
   "execution_count": 7,
   "id": "198c6fda",
   "metadata": {},
   "outputs": [],
   "source": [
    "s = scraper.Scraper(imdb_id=imdb_id, endless_scroll=True)"
   ]
  },
  {
   "cell_type": "code",
   "execution_count": 8,
   "id": "77cb5354",
   "metadata": {},
   "outputs": [],
   "source": [
    "dataset = s.scrape()"
   ]
  },
  {
   "cell_type": "code",
   "execution_count": 9,
   "id": "9f23ce5d",
   "metadata": {},
   "outputs": [
    {
     "data": {
      "text/plain": [
       "{'imdb_id': 'tt0120689',\n",
       " 'year': '1999',\n",
       " 'title': 'The Green Mile',\n",
       " 'genres': ['Crime', 'Drama', 'Fantasy', 'Mystery']}"
      ]
     },
     "execution_count": 9,
     "metadata": {},
     "output_type": "execute_result"
    }
   ],
   "source": [
    "dataset"
   ]
  },
  {
   "cell_type": "code",
   "execution_count": null,
   "id": "11a60d13",
   "metadata": {},
   "outputs": [],
   "source": []
  }
 ],
 "metadata": {
  "kernelspec": {
   "display_name": "Python 3 (ipykernel)",
   "language": "python",
   "name": "python3"
  },
  "language_info": {
   "codemirror_mode": {
    "name": "ipython",
    "version": 3
   },
   "file_extension": ".py",
   "mimetype": "text/x-python",
   "name": "python",
   "nbconvert_exporter": "python",
   "pygments_lexer": "ipython3",
   "version": "3.9.10"
  }
 },
 "nbformat": 4,
 "nbformat_minor": 5
}
