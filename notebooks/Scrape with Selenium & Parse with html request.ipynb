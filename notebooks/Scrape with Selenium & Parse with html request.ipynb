{
 "cells": [
  {
   "cell_type": "code",
   "execution_count": 1,
   "id": "766e263e",
   "metadata": {},
   "outputs": [
    {
     "name": "stdout",
     "output_type": "stream",
     "text": [
      "/Users/eric/Dev/imdb_scraper\n"
     ]
    }
   ],
   "source": [
    "cd /Users/eric/Dev/imdb_scraper"
   ]
  },
  {
   "cell_type": "code",
   "execution_count": 108,
   "id": "a29e9402",
   "metadata": {},
   "outputs": [],
   "source": [
    "import re\n",
    "from requests_html import HTML\n",
    "from app import scraper"
   ]
  },
  {
   "cell_type": "code",
   "execution_count": 4,
   "id": "d7edbadf",
   "metadata": {},
   "outputs": [],
   "source": [
    "url = 'https://www.imdb.com/title/tt0816692/?ref_=nv_sr_srsg_0'"
   ]
  },
  {
   "cell_type": "code",
   "execution_count": 5,
   "id": "d6f2e494",
   "metadata": {},
   "outputs": [],
   "source": [
    "s = scraper.Scraper(url=url, endless_scroll=True)"
   ]
  },
  {
   "cell_type": "code",
   "execution_count": 6,
   "id": "cded25ee",
   "metadata": {},
   "outputs": [],
   "source": [
    "html_str = s.get()"
   ]
  },
  {
   "cell_type": "code",
   "execution_count": 8,
   "id": "7b6bc25e",
   "metadata": {},
   "outputs": [],
   "source": [
    "html_obj = HTML(html=html_str)"
   ]
  },
  {
   "cell_type": "code",
   "execution_count": 129,
   "id": "57795c9f",
   "metadata": {},
   "outputs": [],
   "source": [
    "year_str = html_obj.find('.sc-8c396aa2-2', first=True).text"
   ]
  },
  {
   "cell_type": "code",
   "execution_count": 162,
   "id": "ee383333",
   "metadata": {},
   "outputs": [
    {
     "name": "stdout",
     "output_type": "stream",
     "text": [
      "<Element 'li' role='presentation' class=('ipc-metadata-list__item',) data-testid='storyline-genres'>\n"
     ]
    },
    {
     "data": {
      "text/plain": [
       "['Adventure', 'Drama', 'Sci-Fi']"
      ]
     },
     "execution_count": 162,
     "metadata": {},
     "output_type": "execute_result"
    }
   ],
   "source": [
    "genres_element = html_obj.find(\"[data-testid='storyline-genres']\", first=True)\n",
    "genres_obj = genres_element.find('.ipc-metadata-list-item__list-content-item')\n",
    "genres = [genre.text for genre in genres_obj]\n",
    "print(genres_element)\n",
    "genres"
   ]
  },
  {
   "cell_type": "code",
   "execution_count": 130,
   "id": "40339795",
   "metadata": {},
   "outputs": [],
   "source": [
    "title_str = html_obj.find(\"[data-testid='hero-title-block__title']\", first=True).text"
   ]
  },
  {
   "cell_type": "code",
   "execution_count": 181,
   "id": "1370b572",
   "metadata": {},
   "outputs": [],
   "source": [
    "def extract_an_element(html_obj, element):\n",
    "    result = html_obj.find(element, first=True)\n",
    "    if not result:\n",
    "        return ''\n",
    "    return result\n",
    "\n",
    "def extract_list_from_element(html_obj, element):\n",
    "    obj = html_obj.find(element)\n",
    "    results = [item.text for item in obj]\n",
    "    if not results:\n",
    "        return []\n",
    "    return results"
   ]
  },
  {
   "cell_type": "code",
   "execution_count": 183,
   "id": "30dae245",
   "metadata": {
    "scrolled": true
   },
   "outputs": [],
   "source": [
    "title_str = extract_an_element(html_obj, \"[data-testid='hero-title-block__title']\").text\n",
    "genres_obj = extract_an_element(html_obj, \"[data-testid='storyline-genres']\")\n"
   ]
  },
  {
   "cell_type": "code",
   "execution_count": 184,
   "id": "c3e83562",
   "metadata": {},
   "outputs": [
    {
     "name": "stdout",
     "output_type": "stream",
     "text": [
      "<Element 'li' role='presentation' class=('ipc-metadata-list__item',) data-testid='storyline-genres'>\n"
     ]
    },
    {
     "data": {
      "text/plain": [
       "['Adventure', 'Drama', 'Sci-Fi']"
      ]
     },
     "execution_count": 184,
     "metadata": {},
     "output_type": "execute_result"
    }
   ],
   "source": [
    "print(genres_obj)\n",
    "genres = extract_list_from_element(genres_obj, '.ipc-metadata-list-item__list-content-item')\n",
    "genres"
   ]
  },
  {
   "cell_type": "code",
   "execution_count": 168,
   "id": "cf938a56",
   "metadata": {},
   "outputs": [],
   "source": [
    "pattern = '\\S*title\\/(?P<imdb_id>\\S*)\\/\\S*'"
   ]
  },
  {
   "cell_type": "code",
   "execution_count": 118,
   "id": "84eaeb88",
   "metadata": {},
   "outputs": [],
   "source": [
    "imdb_id = re.search(pattern, url).group('imdb_id')"
   ]
  },
  {
   "cell_type": "code",
   "execution_count": 127,
   "id": "5501ffd2",
   "metadata": {},
   "outputs": [
    {
     "data": {
      "text/plain": [
       "[<Element 'a' class=('ipc-metadata-list-item__list-content-item', 'ipc-metadata-list-item__list-content-item--link') rel=() href='/search/title/?genres=Adventure&explore=title_type,genres&ref_=tt_ov_inf'>,\n",
       " <Element 'a' class=('ipc-metadata-list-item__list-content-item', 'ipc-metadata-list-item__list-content-item--link') rel=() href='/search/title/?genres=Drama&explore=title_type,genres&ref_=tt_ov_inf'>,\n",
       " <Element 'a' class=('ipc-metadata-list-item__list-content-item', 'ipc-metadata-list-item__list-content-item--link') rel=() href='/search/title/?genres=Sci-Fi&explore=title_type,genres&ref_=tt_ov_inf'>]"
      ]
     },
     "execution_count": 127,
     "metadata": {},
     "output_type": "execute_result"
    }
   ],
   "source": [
    " genres_obj"
   ]
  },
  {
   "cell_type": "code",
   "execution_count": null,
   "id": "2194d71b",
   "metadata": {},
   "outputs": [],
   "source": []
  }
 ],
 "metadata": {
  "kernelspec": {
   "display_name": "Python 3 (ipykernel)",
   "language": "python",
   "name": "python3"
  },
  "language_info": {
   "codemirror_mode": {
    "name": "ipython",
    "version": 3
   },
   "file_extension": ".py",
   "mimetype": "text/x-python",
   "name": "python",
   "nbconvert_exporter": "python",
   "pygments_lexer": "ipython3",
   "version": "3.9.10"
  }
 },
 "nbformat": 4,
 "nbformat_minor": 5
}
