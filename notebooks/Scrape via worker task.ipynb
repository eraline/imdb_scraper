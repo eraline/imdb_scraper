{
 "cells": [
  {
   "cell_type": "code",
   "execution_count": 1,
   "id": "469da9f4",
   "metadata": {},
   "outputs": [
    {
     "name": "stdout",
     "output_type": "stream",
     "text": [
      "/Users/eric/Dev/imdb_scraper\n"
     ]
    }
   ],
   "source": [
    "cd /Users/eric/Dev/imdb_scraper"
   ]
  },
  {
   "cell_type": "code",
   "execution_count": 9,
   "id": "10463330",
   "metadata": {},
   "outputs": [],
   "source": [
    "from app import worker, db\n",
    "\n",
    "session = db.get_session()"
   ]
  },
  {
   "cell_type": "code",
   "execution_count": 10,
   "id": "77bf2ed1",
   "metadata": {},
   "outputs": [
    {
     "name": "stdout",
     "output_type": "stream",
     "text": [
      "tt0120689 Film <imdb_id=tt0120689>\n"
     ]
    }
   ],
   "source": [
    "imdb_id = 'tt0120689'\n",
    "worker.scrape_imdb_id(imdb_id)"
   ]
  },
  {
   "cell_type": "code",
   "execution_count": 12,
   "id": "ee255058",
   "metadata": {},
   "outputs": [],
   "source": [
    "imdb_id = 'tt0120689asdsad'\n",
    "worker.scrape_imdb_id(imdb_id)"
   ]
  },
  {
   "cell_type": "code",
   "execution_count": null,
   "id": "635269bd",
   "metadata": {},
   "outputs": [],
   "source": []
  }
 ],
 "metadata": {
  "kernelspec": {
   "display_name": "Python 3 (ipykernel)",
   "language": "python",
   "name": "python3"
  },
  "language_info": {
   "codemirror_mode": {
    "name": "ipython",
    "version": 3
   },
   "file_extension": ".py",
   "mimetype": "text/x-python",
   "name": "python",
   "nbconvert_exporter": "python",
   "pygments_lexer": "ipython3",
   "version": "3.9.10"
  }
 },
 "nbformat": 4,
 "nbformat_minor": 5
}
