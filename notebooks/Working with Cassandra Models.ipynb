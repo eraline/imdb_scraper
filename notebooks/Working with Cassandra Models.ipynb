{
 "cells": [
  {
   "cell_type": "code",
   "execution_count": 1,
   "id": "9c6d7687",
   "metadata": {
    "scrolled": true
   },
   "outputs": [
    {
     "name": "stdout",
     "output_type": "stream",
     "text": [
      "/Users/eric/Dev/imdb_scraper\n"
     ]
    }
   ],
   "source": [
    "cd .."
   ]
  },
  {
   "cell_type": "code",
   "execution_count": 2,
   "id": "01524031",
   "metadata": {},
   "outputs": [],
   "source": [
    "from app import db, crud, models"
   ]
  },
  {
   "cell_type": "code",
   "execution_count": 3,
   "id": "d2e2f984",
   "metadata": {},
   "outputs": [],
   "source": [
    "session = db.get_session()"
   ]
  },
  {
   "cell_type": "code",
   "execution_count": 4,
   "id": "3306a291",
   "metadata": {},
   "outputs": [],
   "source": [
    "data = models.data"
   ]
  },
  {
   "cell_type": "code",
   "execution_count": 5,
   "id": "35776e18",
   "metadata": {},
   "outputs": [
    {
     "data": {
      "text/plain": [
       "{'imdb_id': 'tt123456', 'title': 'Interstellar', 'year': '2014'}"
      ]
     },
     "execution_count": 5,
     "metadata": {},
     "output_type": "execute_result"
    }
   ],
   "source": [
    "data"
   ]
  },
  {
   "cell_type": "code",
   "execution_count": 6,
   "id": "118cd7fa",
   "metadata": {},
   "outputs": [
    {
     "data": {
      "text/plain": [
       "(Film(imdb_id='tt123456', title='Interstellar', year=2014),\n",
       " FilmScrapeEvent(uuid=UUID('d1e05ae0-09b0-11ed-b9c3-d0817aa98ca4'), imdb_id='tt123456', title='Interstellar', year=2014))"
      ]
     },
     "execution_count": 6,
     "metadata": {},
     "output_type": "execute_result"
    }
   ],
   "source": [
    "crud.add_scrape_event(data, fresh=True)"
   ]
  },
  {
   "cell_type": "code",
   "execution_count": 7,
   "id": "70a034f9",
   "metadata": {},
   "outputs": [
    {
     "data": {
      "text/plain": [
       "{'imdb_id': 'tt123456', 'title': 'Interstellar', 'year': '2014'}"
      ]
     },
     "execution_count": 7,
     "metadata": {},
     "output_type": "execute_result"
    }
   ],
   "source": [
    "data"
   ]
  },
  {
   "cell_type": "code",
   "execution_count": 8,
   "id": "cf1e7147",
   "metadata": {},
   "outputs": [
    {
     "name": "stdout",
     "output_type": "stream",
     "text": [
      "tt13243add\n",
      "tt123456\n",
      "tt13243\n",
      "tt12345\n"
     ]
    }
   ],
   "source": [
    "imdb_id = None\n",
    "for obj in models.Film.objects.all():\n",
    "    print(obj.imdb_id)\n",
    "    imdb_id = obj.imdb_id"
   ]
  },
  {
   "cell_type": "code",
   "execution_count": 9,
   "id": "fe456cbc",
   "metadata": {},
   "outputs": [
    {
     "name": "stdout",
     "output_type": "stream",
     "text": [
      "Scraping event for tt123456\n",
      "1 Interstellar e455ef52-09ae-11ed-bf5b-d0817aa98ca4\n",
      "2 Interstellar 9e09268c-09ad-11ed-bf5b-d0817aa98ca4\n",
      "3 Interstellar 9e20303e-09ad-11ed-bf5b-d0817aa98ca4\n",
      "4 Interstellar 9e36cba0-09ad-11ed-bf5b-d0817aa98ca4\n",
      "5 Interstellar 1163a784-09ad-11ed-b46a-d0817aa98ca4\n",
      "6 Interstellar e2a3f76c-09ae-11ed-bf5b-d0817aa98ca4\n",
      "7 Interstellar e36d5d78-09ae-11ed-bf5b-d0817aa98ca4\n",
      "8 Interstellar 975e1db8-09af-11ed-8401-d0817aa98ca4\n",
      "9 Interstellar d1e05ae0-09b0-11ed-b9c3-d0817aa98ca4\n",
      "10 Interstellar e1a02a70-09ae-11ed-bf5b-d0817aa98ca4\n",
      "11 Interstellar 046c9722-09b0-11ed-8401-d0817aa98ca4\n"
     ]
    }
   ],
   "source": [
    "imdb_id = 'tt123456'\n",
    "if imdb_id is not None:\n",
    "    print(f'Scraping event for {imdb_id}')\n",
    "    q = models.FilmScrapeEvent.objects.filter(imdb_id=imdb_id)\n",
    "    for i, obj in enumerate(q, start=1):\n",
    "        print(i, obj.title, obj.uuid)"
   ]
  },
  {
   "cell_type": "code",
   "execution_count": 23,
   "id": "71dec1dd",
   "metadata": {},
   "outputs": [
    {
     "name": "stdout",
     "output_type": "stream",
     "text": [
      "{'imdb_id': 'tt13243add', 'title': 'The Green Mile', 'year': 2000}\n",
      "{'imdb_id': 'tt123456', 'title': 'Interstellar', 'year': 2014}\n",
      "{'imdb_id': 'tt13243', 'title': 'The Green Mile', 'year': 1999}\n",
      "{'imdb_id': 'tt12345', 'title': 'Interstellar', 'year': 2014}\n"
     ]
    }
   ],
   "source": [
    "for obj in session.execute('SELECT * FROM imdb_scraper_app.film'):\n",
    "    print(obj)"
   ]
  },
  {
   "cell_type": "code",
   "execution_count": 13,
   "id": "6b2df128",
   "metadata": {},
   "outputs": [
    {
     "name": "stdout",
     "output_type": "stream",
     "text": [
      "<cassandra.cluster.Session object at 0x7fdb8b29d250>\n"
     ]
    }
   ],
   "source": [
    "print(session)"
   ]
  },
  {
   "cell_type": "code",
   "execution_count": null,
   "id": "bacba491",
   "metadata": {},
   "outputs": [],
   "source": []
  }
 ],
 "metadata": {
  "kernelspec": {
   "display_name": "Python 3 (ipykernel)",
   "language": "python",
   "name": "python3"
  },
  "language_info": {
   "codemirror_mode": {
    "name": "ipython",
    "version": 3
   },
   "file_extension": ".py",
   "mimetype": "text/x-python",
   "name": "python",
   "nbconvert_exporter": "python",
   "pygments_lexer": "ipython3",
   "version": "3.9.10"
  }
 },
 "nbformat": 4,
 "nbformat_minor": 5
}
