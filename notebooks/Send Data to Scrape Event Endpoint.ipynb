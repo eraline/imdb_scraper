{
 "cells": [
  {
   "cell_type": "code",
   "execution_count": 33,
   "id": "147833ae",
   "metadata": {},
   "outputs": [],
   "source": [
    "import requests\n",
    "from pprint import pprint"
   ]
  },
  {
   "cell_type": "code",
   "execution_count": 30,
   "id": "2c56013b",
   "metadata": {},
   "outputs": [
    {
     "name": "stdout",
     "output_type": "stream",
     "text": [
      "{'imdb_id': 'http_test', 'title': 'Ministry of test', 'year': 2012}\n"
     ]
    }
   ],
   "source": [
    "endpoint = 'http://127.0.0.1:8000/events/scrape'\n",
    "\n",
    "r = requests.post(endpoint, json={\"imdb_id\": \"http_test\", \"title\" : \"Ministry of test\", \"year\":\"2012\"})\n",
    "print(r.json())"
   ]
  },
  {
   "cell_type": "code",
   "execution_count": 36,
   "id": "b599991f",
   "metadata": {},
   "outputs": [
    {
     "name": "stdout",
     "output_type": "stream",
     "text": [
      "[{'created': 1659776259.342523,\n",
      "  'imdb_id': 'http_test',\n",
      "  'title': 'Ministry of test',\n",
      "  'year': None},\n",
      " {'created': 1659779573.517476,\n",
      "  'imdb_id': 'http_test',\n",
      "  'title': 'Ministry of test',\n",
      "  'year': '2012'},\n",
      " {'created': 1659776281.407228,\n",
      "  'imdb_id': 'http_test',\n",
      "  'title': 'Ministry of test',\n",
      "  'year': '2012'},\n",
      " {'created': 1659779618.445058,\n",
      "  'imdb_id': 'http_test',\n",
      "  'title': 'Ministry of test',\n",
      "  'year': '2012'},\n",
      " {'created': 1659779552.779535,\n",
      "  'imdb_id': 'http_test',\n",
      "  'title': 'Ministry of test',\n",
      "  'year': '2012'},\n",
      " {'created': 1659779556.223919,\n",
      "  'imdb_id': 'http_test',\n",
      "  'title': 'Ministry of test',\n",
      "  'year': '2012'},\n",
      " {'created': 1659776278.101245,\n",
      "  'imdb_id': 'http_test',\n",
      "  'title': 'Ministry of test',\n",
      "  'year': '2012'},\n",
      " {'created': 1659779567.644882,\n",
      "  'imdb_id': 'http_test',\n",
      "  'title': 'Ministry of test',\n",
      "  'year': '2012'},\n",
      " {'created': 1659779549.346079,\n",
      "  'imdb_id': 'http_test',\n",
      "  'title': 'Ministry of test',\n",
      "  'year': '2012'},\n",
      " {'created': 1659779551.149056,\n",
      "  'imdb_id': 'http_test',\n",
      "  'title': 'Ministry of test',\n",
      "  'year': '2012'},\n",
      " {'created': 1659779549.129456,\n",
      "  'imdb_id': 'http_test',\n",
      "  'title': 'Ministry of test',\n",
      "  'year': '2012'},\n",
      " {'created': 1659779570.413594,\n",
      "  'imdb_id': 'http_test',\n",
      "  'title': 'Ministry of test',\n",
      "  'year': '2012'},\n",
      " {'created': 1659779549.55592,\n",
      "  'imdb_id': 'http_test',\n",
      "  'title': 'Ministry of test',\n",
      "  'year': '2012'}]\n"
     ]
    }
   ],
   "source": [
    "imdb_id = 'http_test'\n",
    "endpoint2 = f'http://127.0.0.1:8000/films/{imdb_id}/events'\n",
    "r2 = requests.get(endpoint2)\n",
    "# print(r2.json())\n",
    "pprint(r2.json())"
   ]
  }
 ],
 "metadata": {
  "kernelspec": {
   "display_name": "Python 3 (ipykernel)",
   "language": "python",
   "name": "python3"
  },
  "language_info": {
   "codemirror_mode": {
    "name": "ipython",
    "version": 3
   },
   "file_extension": ".py",
   "mimetype": "text/x-python",
   "name": "python",
   "nbconvert_exporter": "python",
   "pygments_lexer": "ipython3",
   "version": "3.9.10"
  }
 },
 "nbformat": 4,
 "nbformat_minor": 5
}
